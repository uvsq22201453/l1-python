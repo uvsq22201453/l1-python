{
 "cells": [
  {
   "cell_type": "code",
   "execution_count": null,
   "metadata": {},
   "outputs": [],
   "source": [
    "# EXERCICE 1 :\n",
    "\n",
    "#temps[0] : jours, temps[1]: heures, temps[2]: minutes, temps[3]: secondes\n",
    "\n",
    "import time\n",
    "\n",
    "def tempsEnSeconde(temps: tuple) -> int:\n",
    "    \"\"\" Renvoie le nombre de secondes du temps donné\n",
    "        comme jour, heure, minute, seconde.\"\"\"\n",
    "    return temps[0] * 86400 + temps[1] * 3600 + temps[2] * 60 + temps[3]\n",
    "\n",
    "\n",
    "mon_temps = (3, 23, 1, 34)\n",
    "print(type(mon_temps))\n",
    "print(tempsEnSeconde(mon_temps))\n",
    "\n",
    "\n",
    "def secondesEnTemps(secondes: int) -> tuple:\n",
    "    \"\"\" Renvoie le temps (jour, heure, minute, seconde) qui\n",
    "        correspond au nombre de secondes passé en argument.\"\"\"\n",
    "    jours = secondes // 86400\n",
    "    reste = secondes % 86400\n",
    "\n",
    "    heures = reste // 3600\n",
    "    reste = reste % 3600\n",
    "\n",
    "    minutes = reste // 60\n",
    "    reste = reste % 60\n",
    "\n",
    "    return (jours, heures, minutes, reste)\n",
    "\n",
    "\n",
    "mon_temps = secondesEnTemps(100000)\n",
    "print(mon_temps[0], \"jours\", mon_temps[1], \"heures\", mon_temps[2], \"minutes\",\n",
    "      mon_temps[3], \"secondes\")\n",
    "\n",
    "\n",
    "def affichePluriel(mot: str, nombre: int) -> None:\n",
    "    \"\"\" Affiche (ou non) un mot en fonction du paramètre nombre.\n",
    "        Met le mot au pluriel si nécessaire.\"\"\"\n",
    "    if nombre > 0:\n",
    "        print(\" \", nombre, mot, end=\"\")\n",
    "\n",
    "    if nombre > 1:\n",
    "        print(\"s\", end=\"\")\n"
   ]
  },
  {
   "cell_type": "code",
   "execution_count": null,
   "metadata": {},
   "outputs": [],
   "source": [
    "# EXERCICE 2 :\n",
    "\n",
    "def afficheTemps(temps: tuple) -> None:\n",
    "    \"\"\" Affiche le tuple temps sous la forme :\n",
    "        X jour(s), X heure(s), X minute(s), X seconde(s)\"\"\"\n",
    "    affichePluriel(\"jour\", temps[0])\n",
    "    affichePluriel(\"heure\", temps[1])\n",
    "    affichePluriel(\"minute\", temps[2])\n",
    "    affichePluriel(\"seconde\", temps[3])\n",
    "    print()\n",
    "\n",
    "\n",
    "afficheTemps((1, 0, 14, 23))\n"
   ]
  },
  {
   "cell_type": "code",
   "execution_count": null,
   "metadata": {},
   "outputs": [],
   "source": [
    "# EXERCICE 3 :\n",
    "\n",
    "def demandeTemps() -> tuple:\n",
    "    \"\"\"Demande à l'utilisateur un nombre de jours, d'heures, de minutes\n",
    "    et de secondes et les renvoie sous la forme d'un tuple de temps.\"\"\"\n",
    "    jours = -1\n",
    "    heures = -1\n",
    "    minutes = -1\n",
    "    secondes = -1\n",
    "\n",
    "    while (jours < 0):\n",
    "        jours = int(input(\"Entrez un nombre de jour \"))\n",
    "\n",
    "    while (heures < 0 or heures >= 24):\n",
    "        heures = int(input(\"Entrez un nombre d'heures \"))\n",
    "\n",
    "    while (minutes < 0 or minutes >= 60):\n",
    "        minutes = int(input(\"Entrez un nombre de minutes \"))\n",
    "\n",
    "    while (secondes < 0 or secondes >= 60):\n",
    "        secondes = int(input(\"Entrez un nombre de secondes \"))\n",
    "\n",
    "    return (jours, heures, minutes, secondes)\n",
    "\n",
    "\n",
    "afficheTemps(demandeTemps())"
   ]
  },
  {
   "cell_type": "code",
   "execution_count": null,
   "metadata": {},
   "outputs": [],
   "source": [
    "# EXERCICE 4 :\n",
    "\n",
    "def sommeTemps(temps1: tuple, temps2: tuple) -> tuple:\n",
    "    \"\"\"Retourne la somme des deux temps passés en paramètres.\"\"\"\n",
    "    return secondesEnTemps(tempsEnSeconde(temps1) + tempsEnSeconde(temps2))\n",
    "\n",
    "\n",
    "afficheTemps(sommeTemps((2, 3, 4, 25), (5, 22, 57, 1)))\n"
   ]
  },
  {
   "cell_type": "code",
   "execution_count": null,
   "metadata": {},
   "outputs": [],
   "source": [
    "# EXERCICE 5 :\n",
    "\n",
    "def proportionTemps(temps: tuple, proportion: float) -> tuple:\n",
    "    \"\"\"Retourne un temps egal au temps passé en paramètre après\n",
    "    application de la proportion.\"\"\"\n",
    "    return secondesEnTemps(int(tempsEnSeconde(temps) * proportion))\n",
    "\n",
    "\n",
    "afficheTemps(proportionTemps((2, 0, 36, 0), 0.2))\n",
    "afficheTemps(proportionTemps(proportion=0.2, temps=(2, 0, 36, 0)))"
   ]
  },
  {
   "cell_type": "code",
   "execution_count": null,
   "metadata": {},
   "outputs": [],
   "source": [
    "# EXERCICE 6 :\n",
    "\n",
    "def tempsEnDate(temps: tuple) -> tuple:\n",
    "    \"\"\" Retourne un tuple contenant la date obtenue en ajoutant la\n",
    "        durée stockée dans le paramètre temps au 1er Janvier 1970.\n",
    "        Ne prend pas en compte les années bisextiles.\"\"\"\n",
    "    annee = 1970 + temps[0] // 365\n",
    "    numero_du_jour = 1 + temps[0] % 365\n",
    "    return (annee, numero_du_jour, temps[1], temps[2], temps[3])\n",
    "\n",
    "def afficheDate(date = -1):\n",
    "    pass\n",
    "    \n",
    "temps = secondeEnTemps(1000000000)\n",
    "afficheTemps(temps)\n",
    "afficheDate(tempsEnDate(temps))\n",
    "afficheDate()"
   ]
  }
 ],
 "metadata": {
  "kernelspec": {
   "display_name": "Python 3.10.4 ('l1-python')",
   "language": "python",
   "name": "python3"
  },
  "language_info": {
   "name": "python",
   "version": "3.10.4"
  },
  "orig_nbformat": 4,
  "vscode": {
   "interpreter": {
    "hash": "2c573474f97d6d1318e3d3e3a9901747c7f2646ee832c54e39c54b9e747de816"
   }
  }
 },
 "nbformat": 4,
 "nbformat_minor": 2
}
